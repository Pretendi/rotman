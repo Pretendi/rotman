{
 "cells": [
  {
   "cell_type": "code",
   "execution_count": 4,
   "metadata": {
    "collapsed": false
   },
   "outputs": [
    {
     "name": "stderr",
     "output_type": "stream",
     "text": [
      "/home/paul/anaconda2/lib/python2.7/site-packages/matplotlib/font_manager.py:278: UserWarning: Matplotlib is building the font cache using fc-list. This may take a moment.\n",
      "  'Matplotlib is building the font cache using fc-list. '\n"
     ]
    }
   ],
   "source": [
    "#First let's import the necessary modules\n",
    "import numpy as np\n",
    "import pandas as pd\n",
    "import matplotlib.pyplot as plt\n",
    "%matplotlib inline\n",
    "\n",
    "import os\n",
    "from IPython.display import display, HTML\n",
    "\n",
    "pd.set_option('display.max_columns', 500)"
   ]
  },
  {
   "cell_type": "code",
   "execution_count": 5,
   "metadata": {
    "collapsed": true
   },
   "outputs": [],
   "source": [
    "df=pd.read_csv('credit_data.csv')"
   ]
  },
  {
   "cell_type": "code",
   "execution_count": 6,
   "metadata": {
    "collapsed": true
   },
   "outputs": [],
   "source": [
    "df['July_Payment_Status'] = df['July_Payment_Status'].map({2: 1, 1: 1, 0: 0})"
   ]
  },
  {
   "cell_type": "code",
   "execution_count": 7,
   "metadata": {
    "collapsed": false
   },
   "outputs": [],
   "source": [
    "df_cleaned = df.dropna(axis=0, how='any')"
   ]
  },
  {
   "cell_type": "code",
   "execution_count": 28,
   "metadata": {
    "collapsed": false
   },
   "outputs": [],
   "source": [
    "df_cleaned.to_csv(\"cleaned1.csv\")"
   ]
  },
  {
   "cell_type": "code",
   "execution_count": 8,
   "metadata": {
    "collapsed": false
   },
   "outputs": [
    {
     "data": {
      "text/plain": [
       "False"
      ]
     },
     "execution_count": 8,
     "metadata": {},
     "output_type": "execute_result"
    }
   ],
   "source": [
    "np.any(np.isnan(df_cleaned))"
   ]
  },
  {
   "cell_type": "code",
   "execution_count": 9,
   "metadata": {
    "collapsed": false
   },
   "outputs": [
    {
     "data": {
      "text/plain": [
       "True"
      ]
     },
     "execution_count": 9,
     "metadata": {},
     "output_type": "execute_result"
    }
   ],
   "source": [
    "np.all(np.isfinite(df_cleaned))"
   ]
  },
  {
   "cell_type": "code",
   "execution_count": 10,
   "metadata": {
    "collapsed": false
   },
   "outputs": [],
   "source": [
    "from sklearn.model_selection import train_test_split\n",
    "train, test = train_test_split(df_cleaned, test_size = 0.2, random_state=42)"
   ]
  },
  {
   "cell_type": "code",
   "execution_count": 11,
   "metadata": {
    "collapsed": true
   },
   "outputs": [],
   "source": [
    "from sklearn.ensemble import RandomForestClassifier\n",
    "rf = RandomForestClassifier()"
   ]
  },
  {
   "cell_type": "code",
   "execution_count": 12,
   "metadata": {
    "collapsed": false
   },
   "outputs": [],
   "source": [
    "rf_model = rf.fit(train.loc[:, train.columns != 'July_Payment_Status'], train['July_Payment_Status'].values)"
   ]
  },
  {
   "cell_type": "code",
   "execution_count": 13,
   "metadata": {
    "collapsed": false
   },
   "outputs": [
    {
     "name": "stdout",
     "output_type": "stream",
     "text": [
      "training set performance is 0.978539542122\n",
      "test set performance is 0.805733005733\n"
     ]
    }
   ],
   "source": [
    "print('training set performance is {}'.format(rf_model.score(train.loc[:, train.columns != 'July_Payment_Status'], train['July_Payment_Status'].values)))\n",
    "print('test set performance is {}'.format(rf_model.score(test.loc[:, train.columns != 'July_Payment_Status'], test['July_Payment_Status'].values)))"
   ]
  },
  {
   "cell_type": "code",
   "execution_count": 14,
   "metadata": {
    "collapsed": true
   },
   "outputs": [],
   "source": [
    "from sklearn import linear_model\n",
    "lr = linear_model.LogisticRegression()"
   ]
  },
  {
   "cell_type": "code",
   "execution_count": 15,
   "metadata": {
    "collapsed": true
   },
   "outputs": [],
   "source": [
    "lr_model = lr.fit(train.loc[:, train.columns != 'July_Payment_Status'], train['July_Payment_Status'].values)"
   ]
  },
  {
   "cell_type": "code",
   "execution_count": 16,
   "metadata": {
    "collapsed": false
   },
   "outputs": [
    {
     "name": "stdout",
     "output_type": "stream",
     "text": [
      "training set performance is 0.797681942909\n",
      "test set performance is 0.800655200655\n"
     ]
    }
   ],
   "source": [
    "print('training set performance is {}'.format(lr_model.score(train.loc[:, train.columns != 'July_Payment_Status'], train['July_Payment_Status'].values)))\n",
    "print('test set performance is {}'.format(lr_model.score(test.loc[:, train.columns != 'July_Payment_Status'], test['July_Payment_Status'].values)))"
   ]
  },
  {
   "cell_type": "code",
   "execution_count": 17,
   "metadata": {
    "collapsed": false
   },
   "outputs": [
    {
     "name": "stdout",
     "output_type": "stream",
     "text": [
      "[[ -2.56535685e-05  -1.80444324e-01  -1.30464411e-01  -2.47636385e-01\n",
      "    1.55558191e-03   4.23640919e-01  -3.28308207e-04  -1.21990258e-04\n",
      "    1.20728282e-01  -3.60840519e-04   1.69517049e-05   5.38864939e-02\n",
      "   -9.93258479e-05   7.05307591e-05  -1.36137288e-02  -1.84194946e-04\n",
      "   -4.77525883e-06   4.43289981e-02  -1.23956672e-04   3.19798223e-05\n",
      "    9.52052601e-03  -6.86108472e-05   1.27013645e-05]]\n"
     ]
    }
   ],
   "source": [
    "print(lr_model.coef_)"
   ]
  },
  {
   "cell_type": "code",
   "execution_count": 18,
   "metadata": {
    "collapsed": true
   },
   "outputs": [],
   "source": [
    "from sklearn.ensemble import GradientBoostingClassifier\n",
    "gb = GradientBoostingClassifier(max_depth=7)"
   ]
  },
  {
   "cell_type": "code",
   "execution_count": 19,
   "metadata": {
    "collapsed": true
   },
   "outputs": [],
   "source": [
    "gb_model = gb.fit(train.loc[:, train.columns != 'July_Payment_Status'], train['July_Payment_Status'].values)"
   ]
  },
  {
   "cell_type": "code",
   "execution_count": 20,
   "metadata": {
    "collapsed": false
   },
   "outputs": [
    {
     "name": "stdout",
     "output_type": "stream",
     "text": [
      "training set performance is 0.875332759962\n",
      "test set performance is 0.815561015561\n"
     ]
    }
   ],
   "source": [
    "print('training set performance is {}'.format(gb_model.score(train.loc[:, train.columns != 'July_Payment_Status'], train['July_Payment_Status'].values)))\n",
    "print('test set performance is {}'.format(gb_model.score(test.loc[:, train.columns != 'July_Payment_Status'], test['July_Payment_Status'].values)))"
   ]
  },
  {
   "cell_type": "code",
   "execution_count": 21,
   "metadata": {
    "collapsed": true
   },
   "outputs": [],
   "source": [
    "from sklearn import tree\n",
    "tr = tree.DecisionTreeClassifier()"
   ]
  },
  {
   "cell_type": "code",
   "execution_count": 22,
   "metadata": {
    "collapsed": true
   },
   "outputs": [],
   "source": [
    "tr_model = tr.fit(train.loc[:, train.columns != 'July_Payment_Status'], train['July_Payment_Status'].values)"
   ]
  },
  {
   "cell_type": "code",
   "execution_count": 23,
   "metadata": {
    "collapsed": false
   },
   "outputs": [
    {
     "name": "stdout",
     "output_type": "stream",
     "text": [
      "training set performance is 0.999795224639\n",
      "test set performance is 0.721212121212\n"
     ]
    }
   ],
   "source": [
    "print('training set performance is {}'.format(tr_model.score(train.loc[:, train.columns != 'July_Payment_Status'], train['July_Payment_Status'].values)))\n",
    "print('test set performance is {}'.format(tr_model.score(test.loc[:, train.columns != 'July_Payment_Status'], test['July_Payment_Status'].values)))"
   ]
  },
  {
   "cell_type": "code",
   "execution_count": 25,
   "metadata": {
    "collapsed": false
   },
   "outputs": [
    {
     "data": {
      "text/plain": [
       "'iris.pdf'"
      ]
     },
     "execution_count": 25,
     "metadata": {},
     "output_type": "execute_result"
    }
   ],
   "source": [
    "#import graphviz \n",
    "#dot_data = tree.export_graphviz(tr, out_file=None) \n",
    "#graph = graphviz.Source(dot_data) \n",
    "#graph.render(\"iris\") "
   ]
  },
  {
   "cell_type": "code",
   "execution_count": null,
   "metadata": {
    "collapsed": true
   },
   "outputs": [],
   "source": []
  }
 ],
 "metadata": {
  "anaconda-cloud": {},
  "kernelspec": {
   "display_name": "Python [conda root]",
   "language": "python",
   "name": "conda-root-py"
  },
  "language_info": {
   "codemirror_mode": {
    "name": "ipython",
    "version": 2
   },
   "file_extension": ".py",
   "mimetype": "text/x-python",
   "name": "python",
   "nbconvert_exporter": "python",
   "pygments_lexer": "ipython2",
   "version": "2.7.14"
  }
 },
 "nbformat": 4,
 "nbformat_minor": 1
}
