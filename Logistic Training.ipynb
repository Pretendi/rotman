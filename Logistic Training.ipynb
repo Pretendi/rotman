{
 "cells": [
  {
   "cell_type": "code",
   "execution_count": 44,
   "metadata": {
    "collapsed": false
   },
   "outputs": [],
   "source": [
    "#First let's import the necessary modules\n",
    "import numpy as np\n",
    "import pandas as pd\n",
    "import matplotlib.pyplot as plt\n",
    "%matplotlib inline\n",
    "\n",
    "import os\n",
    "from IPython.display import display, HTML\n",
    "\n",
    "pd.set_option('display.max_columns', 500)"
   ]
  },
  {
   "cell_type": "code",
   "execution_count": 45,
   "metadata": {
    "collapsed": true
   },
   "outputs": [],
   "source": [
    "df=pd.read_csv('post_cleaning.csv')"
   ]
  },
  {
   "cell_type": "code",
   "execution_count": 46,
   "metadata": {
    "collapsed": false
   },
   "outputs": [],
   "source": [
    "#final data cleaning touches\n",
    "\n",
    "df_cleaned = df[df.Had_Blanks != 1]\n",
    "df_cleaned = df_cleaned.drop('Had_Blanks', axis=1)"
   ]
  },
  {
   "cell_type": "code",
   "execution_count": 47,
   "metadata": {
    "collapsed": true
   },
   "outputs": [],
   "source": [
    "df_cleaned.to_csv(\"for_submission.csv\")"
   ]
  },
  {
   "cell_type": "code",
   "execution_count": 48,
   "metadata": {
    "collapsed": true
   },
   "outputs": [],
   "source": [
    "#making sex, marital status, education, and july repayment categorical\n",
    "df_cleaned['Sex'] = pd.Categorical(df_cleaned['Sex'])\n",
    "df_cleaned['Education'] = pd.Categorical(df_cleaned['Education'])\n",
    "df_cleaned['Marital_Status'] = pd.Categorical(df_cleaned['Marital_Status'])\n",
    "df_cleaned['July_Payment_Status'] = pd.Categorical(df_cleaned['July_Payment_Status'])"
   ]
  },
  {
   "cell_type": "code",
   "execution_count": 49,
   "metadata": {
    "collapsed": false
   },
   "outputs": [],
   "source": [
    "#importing training and testing\n",
    "from sklearn.model_selection import train_test_split\n",
    "train, test = train_test_split(df_cleaned, test_size = 0.2, random_state=42)"
   ]
  },
  {
   "cell_type": "code",
   "execution_count": 50,
   "metadata": {
    "collapsed": true
   },
   "outputs": [],
   "source": [
    "#importing kbestfeatures\n",
    "from sklearn.feature_selection import SelectKBest, f_classif\n",
    "selector = SelectKBest(f_classif, k=5)"
   ]
  },
  {
   "cell_type": "code",
   "execution_count": 51,
   "metadata": {
    "collapsed": false
   },
   "outputs": [],
   "source": [
    "#finding most predictive features\n",
    "selector.fit(train.loc[:, train.columns != 'July_Payment_Status'], train['July_Payment_Status'].values)\n",
    "idxs_selected = selector.get_support(indices=True)\n",
    "df_selected_features = df_cleaned.columns[idxs_selected]"
   ]
  },
  {
   "cell_type": "code",
   "execution_count": 52,
   "metadata": {
    "collapsed": false
   },
   "outputs": [
    {
     "data": {
      "text/plain": [
       "Index([u'Jan_Repay_Status', u'Feb_Repay_Status', u'Mar_Repay_Status',\n",
       "       u'Apr_Repay_Status', u'May_Repay_Status'],\n",
       "      dtype='object')"
      ]
     },
     "execution_count": 52,
     "metadata": {},
     "output_type": "execute_result"
    }
   ],
   "source": [
    "#looking at the most predictive features, surprise it's all the previous repayment statuses!\n",
    "df_selected_features"
   ]
  },
  {
   "cell_type": "code",
   "execution_count": 53,
   "metadata": {
    "collapsed": true
   },
   "outputs": [],
   "source": [
    "#import logistic model\n",
    "from sklearn import linear_model\n",
    "lr = linear_model.LogisticRegression()"
   ]
  },
  {
   "cell_type": "code",
   "execution_count": 54,
   "metadata": {
    "collapsed": true
   },
   "outputs": [],
   "source": [
    "#run it\n",
    "lr_model = lr.fit(train.loc[:, train.columns != 'July_Payment_Status'], train['July_Payment_Status'].values)"
   ]
  },
  {
   "cell_type": "code",
   "execution_count": 55,
   "metadata": {
    "collapsed": false
   },
   "outputs": [
    {
     "name": "stdout",
     "output_type": "stream",
     "text": [
      "training set performance is 0.798145564946\n",
      "test set performance is 0.802428618313\n"
     ]
    }
   ],
   "source": [
    "print('training set performance is {}'.format(lr_model.score(train.loc[:, train.columns != 'July_Payment_Status'], train['July_Payment_Status'].values)))\n",
    "print('test set performance is {}'.format(lr_model.score(test.loc[:, train.columns != 'July_Payment_Status'], test['July_Payment_Status'].values)))"
   ]
  },
  {
   "cell_type": "code",
   "execution_count": 56,
   "metadata": {
    "collapsed": false
   },
   "outputs": [],
   "source": [
    "#making the resulting coefficients readable\n",
    "export_values = pd.DataFrame(lr_model.coef_.reshape(-1, len(lr_model.coef_)))\n",
    "export_values['Feature'] = list(train.loc[:, train.columns != 'July_Payment_Status'])\n",
    "export_values['temp'] = export_values[0].abs()\n",
    "export_values['rank'] = export_values['temp'].rank(ascending=False)\n",
    "export_values = export_values.drop(['temp'], axis=1)\n",
    "\n",
    "result = export_values.sort_values(by=['rank'])"
   ]
  },
  {
   "cell_type": "code",
   "execution_count": 57,
   "metadata": {
    "collapsed": false
   },
   "outputs": [
    {
     "data": {
      "text/html": [
       "<div>\n",
       "<style>\n",
       "    .dataframe thead tr:only-child th {\n",
       "        text-align: right;\n",
       "    }\n",
       "\n",
       "    .dataframe thead th {\n",
       "        text-align: left;\n",
       "    }\n",
       "\n",
       "    .dataframe tbody tr th {\n",
       "        vertical-align: top;\n",
       "    }\n",
       "</style>\n",
       "<table border=\"1\" class=\"dataframe\">\n",
       "  <thead>\n",
       "    <tr style=\"text-align: right;\">\n",
       "      <th></th>\n",
       "      <th>0</th>\n",
       "      <th>Feature</th>\n",
       "      <th>rank</th>\n",
       "    </tr>\n",
       "  </thead>\n",
       "  <tbody>\n",
       "    <tr>\n",
       "      <th>5</th>\n",
       "      <td>4.187882e-01</td>\n",
       "      <td>Jan_Repay_Status</td>\n",
       "      <td>1.0</td>\n",
       "    </tr>\n",
       "    <tr>\n",
       "      <th>3</th>\n",
       "      <td>-2.363916e-01</td>\n",
       "      <td>Marital_Status</td>\n",
       "      <td>2.0</td>\n",
       "    </tr>\n",
       "    <tr>\n",
       "      <th>1</th>\n",
       "      <td>-1.549166e-01</td>\n",
       "      <td>Sex</td>\n",
       "      <td>3.0</td>\n",
       "    </tr>\n",
       "    <tr>\n",
       "      <th>2</th>\n",
       "      <td>-1.461843e-01</td>\n",
       "      <td>Education</td>\n",
       "      <td>4.0</td>\n",
       "    </tr>\n",
       "    <tr>\n",
       "      <th>8</th>\n",
       "      <td>1.309400e-01</td>\n",
       "      <td>Feb_Repay_Status</td>\n",
       "      <td>5.0</td>\n",
       "    </tr>\n",
       "    <tr>\n",
       "      <th>11</th>\n",
       "      <td>7.080868e-02</td>\n",
       "      <td>Mar_Repay_Status</td>\n",
       "      <td>6.0</td>\n",
       "    </tr>\n",
       "    <tr>\n",
       "      <th>17</th>\n",
       "      <td>3.998791e-02</td>\n",
       "      <td>May_Repay_Status</td>\n",
       "      <td>7.0</td>\n",
       "    </tr>\n",
       "    <tr>\n",
       "      <th>14</th>\n",
       "      <td>-2.314763e-02</td>\n",
       "      <td>Apr_Repay_Status</td>\n",
       "      <td>8.0</td>\n",
       "    </tr>\n",
       "    <tr>\n",
       "      <th>20</th>\n",
       "      <td>6.652913e-03</td>\n",
       "      <td>Jun_Repay_Status</td>\n",
       "      <td>9.0</td>\n",
       "    </tr>\n",
       "    <tr>\n",
       "      <th>4</th>\n",
       "      <td>1.047252e-03</td>\n",
       "      <td>Age</td>\n",
       "      <td>10.0</td>\n",
       "    </tr>\n",
       "    <tr>\n",
       "      <th>6</th>\n",
       "      <td>-3.144245e-04</td>\n",
       "      <td>Previous_Payment_Prior_Jan</td>\n",
       "      <td>11.0</td>\n",
       "    </tr>\n",
       "    <tr>\n",
       "      <th>9</th>\n",
       "      <td>-3.071474e-04</td>\n",
       "      <td>Previous_Payment_Prior_Feb</td>\n",
       "      <td>12.0</td>\n",
       "    </tr>\n",
       "    <tr>\n",
       "      <th>15</th>\n",
       "      <td>-2.216461e-04</td>\n",
       "      <td>Previous_Payment_Prior_Apr</td>\n",
       "      <td>13.0</td>\n",
       "    </tr>\n",
       "    <tr>\n",
       "      <th>18</th>\n",
       "      <td>-1.302566e-04</td>\n",
       "      <td>Previous_Payment_Prior_May</td>\n",
       "      <td>14.0</td>\n",
       "    </tr>\n",
       "    <tr>\n",
       "      <th>7</th>\n",
       "      <td>-1.015162e-04</td>\n",
       "      <td>Jan_Statement</td>\n",
       "      <td>15.0</td>\n",
       "    </tr>\n",
       "    <tr>\n",
       "      <th>12</th>\n",
       "      <td>-1.004675e-04</td>\n",
       "      <td>Previous_Payment_Prior_Mar</td>\n",
       "      <td>16.0</td>\n",
       "    </tr>\n",
       "    <tr>\n",
       "      <th>21</th>\n",
       "      <td>-6.002639e-05</td>\n",
       "      <td>Previous_Payment_Prior_Jun</td>\n",
       "      <td>17.0</td>\n",
       "    </tr>\n",
       "    <tr>\n",
       "      <th>13</th>\n",
       "      <td>4.446277e-05</td>\n",
       "      <td>Mar_Statement</td>\n",
       "      <td>18.0</td>\n",
       "    </tr>\n",
       "    <tr>\n",
       "      <th>22</th>\n",
       "      <td>4.272143e-05</td>\n",
       "      <td>Jun_Statement</td>\n",
       "      <td>19.0</td>\n",
       "    </tr>\n",
       "    <tr>\n",
       "      <th>0</th>\n",
       "      <td>-3.050025e-05</td>\n",
       "      <td>Credit_Limit</td>\n",
       "      <td>20.0</td>\n",
       "    </tr>\n",
       "    <tr>\n",
       "      <th>10</th>\n",
       "      <td>1.192324e-05</td>\n",
       "      <td>Feb_Statement</td>\n",
       "      <td>21.0</td>\n",
       "    </tr>\n",
       "    <tr>\n",
       "      <th>19</th>\n",
       "      <td>9.591185e-06</td>\n",
       "      <td>May_Statement</td>\n",
       "      <td>22.0</td>\n",
       "    </tr>\n",
       "    <tr>\n",
       "      <th>16</th>\n",
       "      <td>4.752723e-08</td>\n",
       "      <td>Apr_Statement</td>\n",
       "      <td>23.0</td>\n",
       "    </tr>\n",
       "  </tbody>\n",
       "</table>\n",
       "</div>"
      ],
      "text/plain": [
       "               0                     Feature  rank\n",
       "5   4.187882e-01            Jan_Repay_Status   1.0\n",
       "3  -2.363916e-01              Marital_Status   2.0\n",
       "1  -1.549166e-01                         Sex   3.0\n",
       "2  -1.461843e-01                   Education   4.0\n",
       "8   1.309400e-01            Feb_Repay_Status   5.0\n",
       "11  7.080868e-02            Mar_Repay_Status   6.0\n",
       "17  3.998791e-02            May_Repay_Status   7.0\n",
       "14 -2.314763e-02            Apr_Repay_Status   8.0\n",
       "20  6.652913e-03            Jun_Repay_Status   9.0\n",
       "4   1.047252e-03                         Age  10.0\n",
       "6  -3.144245e-04  Previous_Payment_Prior_Jan  11.0\n",
       "9  -3.071474e-04  Previous_Payment_Prior_Feb  12.0\n",
       "15 -2.216461e-04  Previous_Payment_Prior_Apr  13.0\n",
       "18 -1.302566e-04  Previous_Payment_Prior_May  14.0\n",
       "7  -1.015162e-04               Jan_Statement  15.0\n",
       "12 -1.004675e-04  Previous_Payment_Prior_Mar  16.0\n",
       "21 -6.002639e-05  Previous_Payment_Prior_Jun  17.0\n",
       "13  4.446277e-05               Mar_Statement  18.0\n",
       "22  4.272143e-05               Jun_Statement  19.0\n",
       "0  -3.050025e-05                Credit_Limit  20.0\n",
       "10  1.192324e-05               Feb_Statement  21.0\n",
       "19  9.591185e-06               May_Statement  22.0\n",
       "16  4.752723e-08               Apr_Statement  23.0"
      ]
     },
     "execution_count": 57,
     "metadata": {},
     "output_type": "execute_result"
    }
   ],
   "source": [
    "result"
   ]
  }
 ],
 "metadata": {
  "anaconda-cloud": {},
  "kernelspec": {
   "display_name": "Python [conda root]",
   "language": "python",
   "name": "conda-root-py"
  },
  "language_info": {
   "codemirror_mode": {
    "name": "ipython",
    "version": 2
   },
   "file_extension": ".py",
   "mimetype": "text/x-python",
   "name": "python",
   "nbconvert_exporter": "python",
   "pygments_lexer": "ipython2",
   "version": "2.7.14"
  }
 },
 "nbformat": 4,
 "nbformat_minor": 1
}
